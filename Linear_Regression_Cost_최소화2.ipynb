{
  "nbformat": 4,
  "nbformat_minor": 0,
  "metadata": {
    "colab": {
      "name": "Linear Regression Cost 최소화2.ipynb",
      "provenance": [],
      "authorship_tag": "ABX9TyPDb5zE+ws2lWKOKemX88pm",
      "include_colab_link": true
    },
    "kernelspec": {
      "name": "python3",
      "display_name": "Python 3"
    }
  },
  "cells": [
    {
      "cell_type": "markdown",
      "metadata": {
        "id": "view-in-github",
        "colab_type": "text"
      },
      "source": [
        "<a href=\"https://colab.research.google.com/github/zeroing2/Colab/blob/master/Linear_Regression_Cost_%EC%B5%9C%EC%86%8C%ED%99%942.ipynb\" target=\"_parent\"><img src=\"https://colab.research.google.com/assets/colab-badge.svg\" alt=\"Open In Colab\"/></a>"
      ]
    },
    {
      "cell_type": "code",
      "metadata": {
        "id": "o9qqgF2Kkpd0",
        "colab_type": "code",
        "colab": {
          "base_uri": "https://localhost:8080/",
          "height": 68
        },
        "outputId": "53ea9ee3-b5dd-43a0-aea5-5b958c340e56"
      },
      "source": [
        "import sys\n",
        "import tensorflow as tf\n",
        "\n",
        "print(\"python version: \", sys.version)\n",
        "print(\"tensorflow version: \", tf.__version__)"
      ],
      "execution_count": 36,
      "outputs": [
        {
          "output_type": "stream",
          "text": [
            "python version:  3.6.9 (default, Nov  7 2019, 10:44:02) \n",
            "[GCC 8.3.0]\n",
            "tensorflow version:  1.15.0\n"
          ],
          "name": "stdout"
        }
      ]
    },
    {
      "cell_type": "code",
      "metadata": {
        "id": "FW42hEHak8Nv",
        "colab_type": "code",
        "colab": {
          "base_uri": "https://localhost:8080/",
          "height": 51
        },
        "outputId": "2fb1bedb-e6d2-4d75-d8df-b9a86e86a90c"
      },
      "source": [
        "x_data = [1, 2, 3]\n",
        "y_data = [1, 2, 3]\n",
        "\n",
        "print(\"x_data: \", x_data)\n",
        "print(\"y_data: \", y_data)"
      ],
      "execution_count": 37,
      "outputs": [
        {
          "output_type": "stream",
          "text": [
            "x_data:  [1, 2, 3]\n",
            "y_data:  [1, 2, 3]\n"
          ],
          "name": "stdout"
        }
      ]
    },
    {
      "cell_type": "code",
      "metadata": {
        "id": "NBZFQb-dmgoY",
        "colab_type": "code",
        "colab": {
          "base_uri": "https://localhost:8080/",
          "height": 374
        },
        "outputId": "5edabfd6-c5df-447f-e836-1f3c0ebce576"
      },
      "source": [
        "W = tf.Variable(tf.random_normal([1]), name='weight')\n",
        "X = tf.placeholder(tf.float32)\n",
        "Y = tf.placeholder(tf.float32)\n",
        "\n",
        "# Our hypothesis for linear model X * W\n",
        "hypothesis = X * W\n",
        "\n",
        "# cost/loss function\n",
        "cost = tf.reduce_mean(tf.square(hypothesis - Y))\n",
        "\n",
        "# Minimize: Gradient Descent using derivative: W -= learning rate * derivative\n",
        "learning_rate = 0.1\n",
        "gradient = tf.reduce_mean((W * X - Y) * X)\n",
        "descent = W - learning_rate * gradient\n",
        "update = W.assign(descent)\n",
        "\n",
        "# Launch the graph in a session\n",
        "sess = tf.Session()\n",
        "# Initialize global variables in the graph\n",
        "sess.run(tf.global_variables_initializer())\n",
        "\n",
        "for step in range(21):\n",
        "  sess.run(update, feed_dict={X: x_data, Y: y_data})\n",
        "  print(step, sess.run(cost, feed_dict={X: x_data, Y: y_data}), sess.run(W))"
      ],
      "execution_count": 38,
      "outputs": [
        {
          "output_type": "stream",
          "text": [
            "0 2.57343 [0.2574037]\n",
            "1 0.7319977 [0.60394865]\n",
            "2 0.20821278 [0.7887726]\n",
            "3 0.059224952 [0.8873454]\n",
            "4 0.016846236 [0.9399175]\n",
            "5 0.004791819 [0.967956]\n",
            "6 0.0013630092 [0.98290986]\n",
            "7 0.0003876998 [0.99088526]\n",
            "8 0.00011027873 [0.9951388]\n",
            "9 3.136822e-05 [0.9974074]\n",
            "10 8.921791e-06 [0.9986173]\n",
            "11 2.5377383e-06 [0.9992626]\n",
            "12 7.2166426e-07 [0.9996067]\n",
            "13 2.0528283e-07 [0.99979025]\n",
            "14 5.8424458e-08 [0.9998881]\n",
            "15 1.661962e-08 [0.99994034]\n",
            "16 4.720112e-09 [0.9999682]\n",
            "17 1.3486824e-09 [0.999983]\n",
            "18 3.8304884e-10 [0.99999094]\n",
            "19 1.09353714e-10 [0.9999952]\n",
            "20 3.0350833e-11 [0.99999744]\n"
          ],
          "name": "stdout"
        }
      ]
    }
  ]
}