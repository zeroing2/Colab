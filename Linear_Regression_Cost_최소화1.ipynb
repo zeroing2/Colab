{
  "nbformat": 4,
  "nbformat_minor": 0,
  "metadata": {
    "colab": {
      "name": "Linear Regression Cost 최소화1.ipynb",
      "provenance": [],
      "authorship_tag": "ABX9TyNh1rmydUmhd/RSxJjDHVwg",
      "include_colab_link": true
    },
    "kernelspec": {
      "name": "python3",
      "display_name": "Python 3"
    }
  },
  "cells": [
    {
      "cell_type": "markdown",
      "metadata": {
        "id": "view-in-github",
        "colab_type": "text"
      },
      "source": [
        "<a href=\"https://colab.research.google.com/github/zeroing2/Colab/blob/master/Linear_Regression_Cost_%EC%B5%9C%EC%86%8C%ED%99%941.ipynb\" target=\"_parent\"><img src=\"https://colab.research.google.com/assets/colab-badge.svg\" alt=\"Open In Colab\"/></a>"
      ]
    },
    {
      "cell_type": "code",
      "metadata": {
        "id": "o9qqgF2Kkpd0",
        "colab_type": "code",
        "colab": {
          "base_uri": "https://localhost:8080/",
          "height": 85
        },
        "outputId": "2ec06d6f-7b19-4aed-e94c-113f833734d6"
      },
      "source": [
        "import sys\n",
        "import tensorflow as tf\n",
        "import matplotlib as plt_version\n",
        "import matplotlib.pyplot as plt\n",
        "\n",
        "print(\"python version: \", sys.version)\n",
        "print(\"tensorflow version: \", tf.__version__)\n",
        "print(\"matplotlib version: \", plt_version.__version__)"
      ],
      "execution_count": 24,
      "outputs": [
        {
          "output_type": "stream",
          "text": [
            "python version:  3.6.9 (default, Nov  7 2019, 10:44:02) \n",
            "[GCC 8.3.0]\n",
            "tensorflow version:  1.15.0\n",
            "matplotlib version:  3.1.2\n"
          ],
          "name": "stdout"
        }
      ]
    },
    {
      "cell_type": "code",
      "metadata": {
        "id": "FW42hEHak8Nv",
        "colab_type": "code",
        "colab": {
          "base_uri": "https://localhost:8080/",
          "height": 51
        },
        "outputId": "feade717-fc75-45e2-fafb-801d14ed1428"
      },
      "source": [
        "X = [1, 2, 3]\n",
        "Y = [1, 2, 3]\n",
        "\n",
        "print(\"X: \", X)\n",
        "print(\"Y: \", Y)"
      ],
      "execution_count": 25,
      "outputs": [
        {
          "output_type": "stream",
          "text": [
            "X:  [1, 2, 3]\n",
            "Y:  [1, 2, 3]\n"
          ],
          "name": "stdout"
        }
      ]
    },
    {
      "cell_type": "code",
      "metadata": {
        "id": "NBZFQb-dmgoY",
        "colab_type": "code",
        "colab": {
          "base_uri": "https://localhost:8080/",
          "height": 265
        },
        "outputId": "c27a7067-0b0a-41e3-abb3-5f47aaf4e40a"
      },
      "source": [
        "W = tf.placeholder(tf.float32)\n",
        "# Our hypothesis for linear model X * W\n",
        "hypothesis = X * W\n",
        "\n",
        "# cost/loss function\n",
        "cost = tf.reduce_mean(tf.square(hypothesis - Y))\n",
        "# Launch the graph in a session\n",
        "sess = tf.Session()\n",
        "# Initialize global variables in the graph\n",
        "sess.run(tf.global_variables_initializer())\n",
        "# Variables for plotting cost function\n",
        "W_val = []\n",
        "cost_val = []\n",
        "\n",
        "for i in range(-30, 50):\n",
        "  feed_W = i * 0.1\n",
        "  curr_cost, curr_W = sess.run([cost, W], feed_dict={W: feed_W})\n",
        "  W_val.append(curr_W)\n",
        "  cost_val.append(curr_cost)\n",
        "\n",
        "# Show the cost function\n",
        "plt.plot(W_val, cost_val)\n",
        "plt.show()"
      ],
      "execution_count": 26,
      "outputs": [
        {
          "output_type": "display_data",
          "data": {
            "image/png": "[encoded data removed]",
            "text/plain": [
              "<Figure size 432x288 with 1 Axes>"
            ]
          },
          "metadata": {
            "tags": []
          }
        }
      ]
    }
  ]
}