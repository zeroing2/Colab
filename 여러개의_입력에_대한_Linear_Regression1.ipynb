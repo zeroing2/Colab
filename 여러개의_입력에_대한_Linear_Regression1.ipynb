{
  "nbformat": 4,
  "nbformat_minor": 0,
  "metadata": {
    "colab": {
      "name": "여러개의 입력에 대한 Linear Regression1.ipynb",
      "provenance": [],
      "authorship_tag": "ABX9TyPPFLqivUII8muEtMH7EcAJ",
      "include_colab_link": true
    },
    "kernelspec": {
      "name": "python3",
      "display_name": "Python 3"
    }
  },
  "cells": [
    {
      "cell_type": "markdown",
      "metadata": {
        "id": "view-in-github",
        "colab_type": "text"
      },
      "source": [
        "<a href=\"https://colab.research.google.com/github/zeroing2/Colab/blob/master/%EC%97%AC%EB%9F%AC%EA%B0%9C%EC%9D%98_%EC%9E%85%EB%A0%A5%EC%97%90_%EB%8C%80%ED%95%9C_Linear_Regression1.ipynb\" target=\"_parent\"><img src=\"https://colab.research.google.com/assets/colab-badge.svg\" alt=\"Open In Colab\"/></a>"
      ]
    },
    {
      "cell_type": "code",
      "metadata": {
        "id": "o9qqgF2Kkpd0",
        "colab_type": "code",
        "colab": {
          "base_uri": "https://localhost:8080/",
          "height": 68
        },
        "outputId": "2ee05ea0-28a7-46cb-f3c2-69602bd3e5cf"
      },
      "source": [
        "import sys\n",
        "import tensorflow as tf\n",
        "\n",
        "print(\"python version: \", sys.version)\n",
        "print(\"tensorflow version: \", tf.__version__)"
      ],
      "execution_count": 62,
      "outputs": [
        {
          "output_type": "stream",
          "text": [
            "python version:  3.6.9 (default, Nov  7 2019, 10:44:02) \n",
            "[GCC 8.3.0]\n",
            "tensorflow version:  1.15.0\n"
          ],
          "name": "stdout"
        }
      ]
    },
    {
      "cell_type": "code",
      "metadata": {
        "id": "FW42hEHak8Nv",
        "colab_type": "code",
        "colab": {
          "base_uri": "https://localhost:8080/",
          "height": 51
        },
        "outputId": "b3460e77-75a0-46b0-b9ed-a8dd3c18c2e8"
      },
      "source": [
        "x_data = [[73., 80., 75.], [93., 88., 93.], [89, 91, 90], [96, 98, 100], [73, 66, 70]]\n",
        "y_data = [[152.], [185.], [180.], [196.], [142.]]\n",
        "\n",
        "print(\"x_data: \", x_data)\n",
        "print(\"y_data: \", y_data)"
      ],
      "execution_count": 63,
      "outputs": [
        {
          "output_type": "stream",
          "text": [
            "x_data:  [[73.0, 80.0, 75.0], [93.0, 88.0, 93.0], [89, 91, 90], [96, 98, 100], [73, 66, 70]]\n",
            "y_data:  [[152.0], [185.0], [180.0], [196.0], [142.0]]\n"
          ],
          "name": "stdout"
        }
      ]
    },
    {
      "cell_type": "code",
      "metadata": {
        "id": "NBZFQb-dmgoY",
        "colab_type": "code",
        "colab": {
          "base_uri": "https://localhost:8080/",
          "height": 85
        },
        "outputId": "3e812846-e934-49b4-896f-336e90d4eff6"
      },
      "source": [
        "# placefholders for a tensor that will be always fed\n",
        "X = tf.placeholder(tf.float32, shape=[None, 3])\n",
        "Y = tf.placeholder(tf.float32, shape=[None, 1])\n",
        "\n",
        "W = tf.Variable(tf.random_normal([3, 1]), name='weight')\n",
        "b = tf.Variable(tf.random_normal([1]), name='bias')\n",
        "\n",
        "print(\"X: \", X)\n",
        "print(\"Y: \", Y)\n",
        "print(\"W: \", W)\n",
        "print(\"b: \", b)"
      ],
      "execution_count": 64,
      "outputs": [
        {
          "output_type": "stream",
          "text": [
            "X:  Tensor(\"Placeholder_27:0\", shape=(?, 3), dtype=float32)\n",
            "Y:  Tensor(\"Placeholder_28:0\", shape=(?, 1), dtype=float32)\n",
            "W:  <tf.Variable 'weight_8:0' shape=(3, 1) dtype=float32_ref>\n",
            "b:  <tf.Variable 'bias_4:0' shape=(1,) dtype=float32_ref>\n"
          ],
          "name": "stdout"
        }
      ]
    },
    {
      "cell_type": "code",
      "metadata": {
        "id": "1mUd-XTzx4ei",
        "colab_type": "code",
        "colab": {
          "base_uri": "https://localhost:8080/",
          "height": 1000
        },
        "outputId": "2afe6fe7-e334-4e9b-8784-9efabc15d5df"
      },
      "source": [
        "# Our hypothesis\n",
        "hypothesis = tf.matmul(X, W) + b\n",
        "# cost/loss function\n",
        "cost = tf.reduce_mean(tf.square(hypothesis - Y))\n",
        "\n",
        "# Minimize: Gradient Descent Magic\n",
        "optimizer = tf.train.GradientDescentOptimizer(learning_rate=1e-5)\n",
        "train = optimizer.minimize(cost)\n",
        "\n",
        "# Launch the graph in a session\n",
        "sess = tf.Session()\n",
        "# Initialize global variables in the graph\n",
        "sess.run(tf.global_variables_initializer())\n",
        "\n",
        "for step in range(500001):\n",
        "  cost_val, hy_val, _ = sess.run([cost, hypothesis, train], feed_dict={X: x_data, Y: y_data})\n",
        "  if step % 50000 == 0:\n",
        "    print(step, \"Cost: \", cost_val, \"\\nPrediction:\\n\", hy_val)"
      ],
      "execution_count": 65,
      "outputs": [
        {
          "output_type": "stream",
          "text": [
            "0 Cost:  3795.8562 \n",
            "Prediction:\n",
            " [[102.467186]\n",
            " [115.42314 ]\n",
            " [117.944374]\n",
            " [125.24981 ]\n",
            " [ 88.81774 ]]\n",
            "50000 Cost:  0.23639071 \n",
            "Prediction:\n",
            " [[151.79253]\n",
            " [184.50327]\n",
            " [180.80804]\n",
            " [195.64366]\n",
            " [142.33504]]\n",
            "100000 Cost:  0.1661655 \n",
            "Prediction:\n",
            " [[151.61797]\n",
            " [184.58429]\n",
            " [180.70381]\n",
            " [195.95203]\n",
            " [142.12004]]\n",
            "150000 Cost:  0.15963422 \n",
            "Prediction:\n",
            " [[151.56665]\n",
            " [184.608  ]\n",
            " [180.672  ]\n",
            " [196.04413]\n",
            " [142.05647]]\n",
            "200000 Cost:  0.1587383 \n",
            "Prediction:\n",
            " [[151.55171]\n",
            " [184.61487]\n",
            " [180.66167]\n",
            " [196.07158]\n",
            " [142.03842]]\n",
            "250000 Cost:  0.15833981 \n",
            "Prediction:\n",
            " [[151.54765]\n",
            " [184.61667]\n",
            " [180.6577 ]\n",
            " [196.08034]\n",
            " [142.0334 ]]\n",
            "300000 Cost:  0.15797858 \n",
            "Prediction:\n",
            " [[151.5473 ]\n",
            " [184.61674]\n",
            " [180.65588]\n",
            " [196.08243]\n",
            " [142.0331 ]]\n",
            "350000 Cost:  0.1576273 \n",
            "Prediction:\n",
            " [[151.54778]\n",
            " [184.61642]\n",
            " [180.65456]\n",
            " [196.0832 ]\n",
            " [142.03365]]\n",
            "400000 Cost:  0.15727776 \n",
            "Prediction:\n",
            " [[151.54843]\n",
            " [184.616  ]\n",
            " [180.65332]\n",
            " [196.08371]\n",
            " [142.03438]]\n",
            "450000 Cost:  0.15692379 \n",
            "Prediction:\n",
            " [[151.54904]\n",
            " [184.61562]\n",
            " [180.65205]\n",
            " [196.08426]\n",
            " [142.03508]]\n",
            "500000 Cost:  0.15657729 \n",
            "Prediction:\n",
            " [[151.54968]\n",
            " [184.6152 ]\n",
            " [180.65082]\n",
            " [196.08478]\n",
            " [142.0358 ]]\n"
          ],
          "name": "stdout"
        }
      ]
    }
  ]
}